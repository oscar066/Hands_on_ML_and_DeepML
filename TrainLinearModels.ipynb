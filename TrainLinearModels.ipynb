{
 "cells": [
  {
   "attachments": {},
   "cell_type": "markdown",
   "metadata": {},
   "source": [
    "# Training Linear Models"
   ]
  },
  {
   "cell_type": "code",
   "execution_count": 1,
   "metadata": {},
   "outputs": [],
   "source": [
    "import pandas as pd \n",
    "import  numpy as np\n",
    "import matplotlib.pyplot as plt\n",
    "import seaborn as  sns"
   ]
  },
  {
   "attachments": {},
   "cell_type": "markdown",
   "metadata": {},
   "source": [
    "Linear regression formula: $y = \\theta_0 + \\theta_1x_1 + \\theta_2x_2 + \\cdots + \\theta_nx_n$\n",
    "<ul>\n",
    "ŷ is the predicted value.\n",
    "<li>n is the number of features.\n",
    "<li>xi is the ith feature value.\n",
    "<li>θj is the jth model parameter (including the bias term θ0 and the feature weights θ1, θ2, ⋯, θn).</ul>"
   ]
  },
  {
   "cell_type": "code",
   "execution_count": 3,
   "metadata": {},
   "outputs": [],
   "source": [
    "X = 2 * np.random.rand(100, 1)\n",
    "y = 4 + 3 * X + np.random.randn(100, 1)"
   ]
  },
  {
   "attachments": {},
   "cell_type": "markdown",
   "metadata": {},
   "source": [
    "## Normal Equation"
   ]
  },
  {
   "attachments": {},
   "cell_type": "markdown",
   "metadata": {},
   "source": [
    "To find the value of θ that minimizes the cost function, there is a closed-form solution —in other words, a mathematical equation that gives the result directly. This is called the Normal Equation "
   ]
  },
  {
   "cell_type": "code",
   "execution_count": 5,
   "metadata": {},
   "outputs": [
    {
     "data": {
      "text/plain": [
       "array([[4.12342866],\n",
       "       [2.84357955]])"
      ]
     },
     "execution_count": 5,
     "metadata": {},
     "output_type": "execute_result"
    }
   ],
   "source": [
    "X_b = np.c_[np.ones((100, 1)), X] # add x0 = 1 to each instance \n",
    "theta_best = np.linalg.inv(X_b.T.dot(X_b)).dot(X_b.T).dot(y)\n",
    "theta_best"
   ]
  },
  {
   "attachments": {},
   "cell_type": "markdown",
   "metadata": {},
   "source": [
    "let’s compute θ using the Normal Equation. We will use the inv() function from NumPy’s Linear Algebra module (np.linalg) to compute the inverse of a matrix, and the dot() method for matrix multiplication"
   ]
  },
  {
   "cell_type": "code",
   "execution_count": 6,
   "metadata": {},
   "outputs": [
    {
     "data": {
      "text/plain": [
       "array([[4.12342866],\n",
       "       [9.81058776]])"
      ]
     },
     "execution_count": 6,
     "metadata": {},
     "output_type": "execute_result"
    }
   ],
   "source": [
    "X_new = np.array([[0], [2]])\n",
    "X_new_b = np.c_[np.ones((2, 1)), X_new] # add x0 = 1 to each instance\n",
    "y_predict = X_new_b.dot(theta_best)\n",
    "y_predict"
   ]
  },
  {
   "attachments": {},
   "cell_type": "markdown",
   "metadata": {},
   "source": [
    "this code computes the predicted target values (y_predict) for two new instances with feature values of 0 and 2, respectively, using a trained linear regression model that has been fit on a dataset with a single feature (X) and corresponding target values (y). The np.c_[] function is used to add the bias term to the new instances before making predictions."
   ]
  },
  {
   "cell_type": "code",
   "execution_count": 7,
   "metadata": {},
   "outputs": [
    {
     "data": {
      "image/png": "[encoded data removed]",
      "text/plain": [
       "<Figure size 432x288 with 1 Axes>"
      ]
     },
     "metadata": {
      "needs_background": "light"
     },
     "output_type": "display_data"
    }
   ],
   "source": [
    "plt.plot(X_new, y_predict, \"r-\")\n",
    "plt.plot(X, y, \"b.\")\n",
    "plt.axis([0, 2, 0, 15])\n",
    "plt.show()"
   ]
  },
  {
   "cell_type": "code",
   "execution_count": 10,
   "metadata": {},
   "outputs": [
    {
     "name": "stdout",
     "output_type": "stream",
     "text": [
      "[4.12342866] [[2.84357955]] \n",
      "\n",
      "[[4.12342866]\n",
      " [9.81058776]]\n"
     ]
    }
   ],
   "source": [
    "from sklearn.linear_model import LinearRegression\n",
    "\n",
    "lin_reg = LinearRegression()\n",
    "lin_reg.fit(X, y)\n",
    "\n",
    "print(lin_reg.intercept_, lin_reg.coef_  ,'\\n')\n",
    "print(lin_reg.predict(X_new))"
   ]
  },
  {
   "attachments": {},
   "cell_type": "markdown",
   "metadata": {},
   "source": [
    "LinearRegression class was based on the Normal Equation. This was an error, my apologies: as explained above, it is based on the pseudoinverse, which ultimately relies on the SVD matrix decomposition of X. The pseudoinverse is more efficient than the Normal Equation, especially when the number of features is large. The LinearRegression class is based on the pseudoinverse, not the Normal Equation."
   ]
  },
  {
   "cell_type": "code",
   "execution_count": 14,
   "metadata": {},
   "outputs": [
    {
     "data": {
      "text/plain": [
       "array([[32.55922417],\n",
       "       [60.99501968]])"
      ]
     },
     "execution_count": 14,
     "metadata": {},
     "output_type": "execute_result"
    }
   ],
   "source": [
    "lin_reg.predict([[10], [20]])"
   ]
  },
  {
   "attachments": {},
   "cell_type": "markdown",
   "metadata": {},
   "source": [
    "The Normal Equation computes the inverse of XT · X, which is an n × n matrix (where n is the number of features). The computational complexity of inverting such a matrix is typically about O(n2.4) to O(n3) (depending on the implementation). In other words, if you double the number of features, you multiply the computation time by roughly 22.4 = 5.3 to 23 = 8.\n",
    "The Normal Equation gets very slow when the number of features grows large (e.g., 100,000).\n",
    "On the positive side, this equation is linear with regards to the number of instances in the training set (it is O(m)), so it handles large training sets efficiently, provided they can fit in memory."
   ]
  },
  {
   "attachments": {},
   "cell_type": "markdown",
   "metadata": {},
   "source": [
    "## Gradient Descent"
   ]
  },
  {
   "attachments": {},
   "cell_type": "markdown",
   "metadata": {},
   "source": [
    "Gradient Descent is a very generic optimization algorithm capable of finding optimal solutions to a wide range of problems. The general idea of Gradient Descent is to tweak parameters iteratively in order to minimize a cost function."
   ]
  },
  {
   "attachments": {},
   "cell_type": "markdown",
   "metadata": {},
   "source": [
    "Concretely, you start by filling θ with random values (this is called random initializa‐ tion), and then you improve it gradually, taking one baby step at a time, each step attempting to decrease the cost function (e.g., the MSE), until the algorithm converges to a minimum<br>\n",
    "\n",
    "learning rate defines the size of steps to be taken by the algorithmn should be careful not to choose a very low one that would take a long time to converge neither a very large one \n",
    "that would make the algorithm diverge."
   ]
  },
  {
   "attachments": {},
   "cell_type": "markdown",
   "metadata": {},
   "source": [
    " Two main challenges with Gradient Descent: if the ran‐ dom initialization starts the algorithm on the left, then it will converge to a local mini‐ mum, which is not as good as the global minimum. If it starts on the right, then it will take a very long time to cross the plateau, and if you stop too early you will never reach the global minimum.<br>\n",
    "\n",
    " Its important to ensure that all features have a similar scale (e.g., using Scikit-Learn’s StandardScaler class), or else it will take much longer to converge.\n"
   ]
  },
  {
   "cell_type": "code",
   "execution_count": 15,
   "metadata": {},
   "outputs": [],
   "source": [
    "eta = 0.1\n",
    "n_iterations = 1000\n",
    "m = 100\n",
    "theta = np.random.randn(2,1)\n",
    "\n",
    "for iteration in range(n_iterations):\n",
    "    gradients = 2/m * X_b.T.dot(X_b.dot(theta) - y)\n",
    "    theta = theta - eta * gradients"
   ]
  },
  {
   "cell_type": "code",
   "execution_count": 16,
   "metadata": {},
   "outputs": [
    {
     "data": {
      "text/plain": [
       "array([[4.12342866],\n",
       "       [2.84357955]])"
      ]
     },
     "execution_count": 16,
     "metadata": {},
     "output_type": "execute_result"
    }
   ],
   "source": [
    "theta"
   ]
  },
  {
   "attachments": {},
   "cell_type": "markdown",
   "metadata": {},
   "source": [
    "<b style=\"font-size: 25px; color: red;\">Batch Gradient Descent</b><br>\n",
    "The main problem with Batch Gradient Descent is the fact that it uses the whole training set to compute the gradients at every step, which makes it very slow when the training set is large."
   ]
  },
  {
   "cell_type": "code",
   "execution_count": null,
   "metadata": {},
   "outputs": [],
   "source": [
    "eta = 0.1\n",
    "n_iterations = 1000\n",
    "m = 100\n",
    "theta = np.random.randn(2,1)"
   ]
  },
  {
   "cell_type": "code",
   "execution_count": null,
   "metadata": {},
   "outputs": [],
   "source": [
    "# This function performs batch gradient descent, a type of optimization algorithm commonly used in machine learning\n",
    "# to minimize a cost function\n",
    "\n",
    "def batch_gradient_descent(X, y, theta, eta, n_iterations):\n",
    "    \"\"\" \n",
    "    Performs batch gradient descent to minimize a cost function\n",
    "    X: array of training examples\n",
    "    y: array of target values\n",
    "    theta: array of model parameters\n",
    "    eta: learning rate\n",
    "    n_iterations: number of iterations to perform\n",
    "    \"\"\"\n",
    "    # Calculate the number of training examples in the dataset\n",
    "    m = len(y)\n",
    "    # Loop through the specified number of iterations\n",
    "    for iteration in range(n_iterations):\n",
    "        # Calculate the gradients of the cost function\n",
    "        gradients = 2/m * X.T.dot(X.dot(theta) - y)\n",
    "        # Update the model parameters using the gradients and the learning rate\n",
    "        theta = theta - eta * gradients\n",
    "    # Return the final values of the model parameters\n",
    "    return theta\n",
    "\n",
    "# theta_batch = batch_gradient_descent(X_b, y, theta, eta, n_iterations)\n"
   ]
  },
  {
   "attachments": {},
   "cell_type": "markdown",
   "metadata": {},
   "source": [
    "<b style=\"font-size: 25px; color: red;\">Stochastic Gradient Descent</b><br>\n",
    "At each step, instead of computing the gradients based on the full training set (as in Batch Gradient Descent), the algorithm just picks a random instance in the training set and computes the gradients based only on that single instance. This makes the algorithm much faster since it has very little data to manipulate at every iteration. As a result, this algorithm is well suited for online learning.\n"
   ]
  },
  {
   "cell_type": "code",
   "execution_count": null,
   "metadata": {},
   "outputs": [],
   "source": [
    "# implementation of Stochastic Gradient Descent from scratch\n",
    "n_epochs = 50\n",
    "t0, t1 = 5, 50 # learning schedule hyperparameters\n",
    "\n",
    "def learning_schedule(t):\n",
    "    return t0 / (t + t1)\n",
    "\n",
    "theta = np.random.randn(2,1) # random initialization"
   ]
  },
  {
   "cell_type": "code",
   "execution_count": null,
   "metadata": {},
   "outputs": [],
   "source": [
    "# This function performs stochastic gradient descent, a type of optimization algorithm commonly used in machine learning\n",
    "# to minimize a cost function\n",
    "\n",
    "def stochastic_gradient_descent(X, y, theta, n_epochs, t0, t1):\n",
    "    \"\"\" \n",
    "    Performs stochastic gradient descent to minimize a cost function\n",
    "    X: array of training examples\n",
    "    y: array of target values\n",
    "    theta: array of model parameters\n",
    "    n_epochs: number of epochs to perform\n",
    "    t0: learning schedule hyperparameter\n",
    "    t1: learning schedule hyperparameter\n",
    "    \"\"\"\n",
    "    # Calculate the number of training examples in the dataset\n",
    "    m = len(y)\n",
    "    # Loop through the specified number of epochs\n",
    "    for epoch in range(n_epochs):\n",
    "        # Loop through each training example\n",
    "        for i in range(m):\n",
    "            # Randomly select a training example\n",
    "            random_index = np.random.randint(m)\n",
    "            # Get the features and target value for the selected example\n",
    "            xi = X[random_index:random_index+1]\n",
    "            yi = y[random_index:random_index+1]\n",
    "            # Calculate the gradients of the cost function using the selected example\n",
    "            gradients = 2 * xi.T.dot(xi.dot(theta) - yi)\n",
    "            # Calculate the learning rate using a learning schedule\n",
    "            eta = learning_schedule(epoch * m + i, t0, t1)\n",
    "            # Update the model parameters using the gradients and the learning rate\n",
    "            theta = theta - eta * gradients\n",
    "    # Return the final values of the model parameters\n",
    "    return theta\n",
    "\n",
    "# theta_stochastic = stochastic_gradient_descent(X, y, theta, n_epochs, t0, t1)"
   ]
  },
  {
   "cell_type": "code",
   "execution_count": null,
   "metadata": {},
   "outputs": [],
   "source": [
    "# implementing stochastic gradient descent using sklearn\n",
    "\n",
    "from sklearn.linear_model import SGDRegressor\n",
    "sgd_reg = SGDRegressor(n_iters=50, penalty=None, eta0=0.1)\n",
    "sgd_reg.fit(X, y.ravel())"
   ]
  },
  {
   "cell_type": "code",
   "execution_count": null,
   "metadata": {},
   "outputs": [],
   "source": [
    "print(sgd_reg.intercept_, sgd_reg.coef_)"
   ]
  },
  {
   "attachments": {},
   "cell_type": "markdown",
   "metadata": {},
   "source": [
    "<b style=\"font-size: 25px; color: red;\">Mini-batch Gradient Descent</b><br>\n",
    "The last Gradient Descent algorithm we will look at is called Mini-batch Gradient Descent. It is quite simple to understand: at each step, instead of computing the gradients based on the full training set (as in Batch Gradient Descent), or based on just one instance (as in Stochastic Gradient Descent), the algorithm computes the gradients on small random sets of instances called mini-batches."
   ]
  },
  {
   "cell_type": "code",
   "execution_count": null,
   "metadata": {},
   "outputs": [],
   "source": [
    "theta_path_mgd = []\n",
    "\n",
    "n_iterations = 50\n",
    "minibatch_size = 20\n",
    "\n",
    "np.random.seed(42)\n",
    "theta = np.random.randn(2,1)  # random initialization\n",
    "\n",
    "t0, t1 = 200, 1000\n",
    "def learning_schedule(t):\n",
    "    return t0 / (t + t1)"
   ]
  },
  {
   "cell_type": "code",
   "execution_count": null,
   "metadata": {},
   "outputs": [],
   "source": [
    "# This function performs mini-batch gradient descent, a type of optimization algorithm commonly used in machine learning\n",
    "# to minimize a cost function\n",
    "\n",
    "def mini_batch_gradient_descent(X, y, theta, n_iterations, eta, minibatch_size):\n",
    "    \"\"\" \n",
    "    Performs mini-batch gradient descent to minimize a cost function\n",
    "    X: array of training examples\n",
    "    y: array of target values\n",
    "    theta: array of model parameters\n",
    "    n_iterations: number of iterations to perform\n",
    "    eta: learning rate\n",
    "    minibatch_size: size of the mini-batches to use\n",
    "    \"\"\"\n",
    "    \n",
    "    # Calculate the number of training examples in the dataset\n",
    "    m = len(y)\n",
    "    t = 0\n",
    "    # Loop through the specified number of iterations\n",
    "    for epoch in range(n_iterations):\n",
    "        # Shuffle the training data to prevent the algorithm from getting stuck in local minima\n",
    "        shuffled_indices = np.random.permutation(m)\n",
    "        X_b_shuffled = X_b[shuffled_indices]\n",
    "        y_shuffled = y[shuffled_indices]\n",
    "        # Loop through each mini-batch\n",
    "        for i in range(0, m, minibatch_size):\n",
    "            # Increment the iteration counter\n",
    "            t += 1\n",
    "            # Get the features and target values for the current mini-batch\n",
    "            xi = X_b_shuffled[i:i+minibatch_size]\n",
    "            yi = y_shuffled[i:i+minibatch_size]\n",
    "            # Calculate the gradients of the cost function using the current mini-batch\n",
    "            gradients = 2/minibatch_size * xi.T.dot(xi.dot(theta) - yi)\n",
    "            # Calculate the learning rate using a learning schedule\n",
    "            eta = learning_schedule(t)\n",
    "            # Update the model parameters using the gradients and the learning rate\n",
    "            theta = theta - eta * gradients\n",
    "    # Return the final values of the model parameters\n",
    "    return theta\n",
    "\n",
    "# theta_mini_batch = mini_batch_gradient_descent(X_b, y, theta, n_iterations, eta, minibatch_size)"
   ]
  }
 ],
 "metadata": {
  "kernelspec": {
   "display_name": "data",
   "language": "python",
   "name": "python3"
  },
  "language_info": {
   "codemirror_mode": {
    "name": "ipython",
    "version": 3
   },
   "file_extension": ".py",
   "mimetype": "text/x-python",
   "name": "python",
   "nbconvert_exporter": "python",
   "pygments_lexer": "ipython3",
   "version": "3.9.7"
  },
  "orig_nbformat": 4,
  "vscode": {
   "interpreter": {
    "hash": "4b5221f7fd568601ffb692ded55cc6a8f9f720c6422993e13b3964f3c2d5ea0a"
   }
  }
 },
 "nbformat": 4,
 "nbformat_minor": 2
}
